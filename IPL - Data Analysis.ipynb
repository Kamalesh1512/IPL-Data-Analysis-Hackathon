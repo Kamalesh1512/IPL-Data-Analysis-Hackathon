{
 "cells": [
  {
   "cell_type": "markdown",
   "id": "9b7ce822",
   "metadata": {},
   "source": [
    "### Import Libraries"
   ]
  },
  {
   "cell_type": "code",
   "execution_count": 182,
   "id": "ebbcfb89",
   "metadata": {},
   "outputs": [],
   "source": [
    "import pandas as pd\n",
    "import numpy as np\n",
    "import matplotlib.pyplot as plt\n",
    "import seaborn as sns"
   ]
  },
  {
   "cell_type": "markdown",
   "id": "0756d59b",
   "metadata": {},
   "source": [
    "### Exploratory Data Analysis"
   ]
  },
  {
   "cell_type": "code",
   "execution_count": 183,
   "id": "1be64d44",
   "metadata": {},
   "outputs": [],
   "source": [
    "## Reading data\n",
    "delivery=pd.read_csv('deliveries.csv')\n",
    "matches=pd.read_csv('matches.csv')"
   ]
  },
  {
   "cell_type": "code",
   "execution_count": 184,
   "id": "34d44a31",
   "metadata": {},
   "outputs": [
    {
     "data": {
      "text/html": [
       "<div>\n",
       "<style scoped>\n",
       "    .dataframe tbody tr th:only-of-type {\n",
       "        vertical-align: middle;\n",
       "    }\n",
       "\n",
       "    .dataframe tbody tr th {\n",
       "        vertical-align: top;\n",
       "    }\n",
       "\n",
       "    .dataframe thead th {\n",
       "        text-align: right;\n",
       "    }\n",
       "</style>\n",
       "<table border=\"1\" class=\"dataframe\">\n",
       "  <thead>\n",
       "    <tr style=\"text-align: right;\">\n",
       "      <th></th>\n",
       "      <th>match_id</th>\n",
       "      <th>inning</th>\n",
       "      <th>batting_team</th>\n",
       "      <th>bowling_team</th>\n",
       "      <th>over</th>\n",
       "      <th>ball</th>\n",
       "      <th>batsman</th>\n",
       "      <th>non_striker</th>\n",
       "      <th>bowler</th>\n",
       "      <th>is_super_over</th>\n",
       "      <th>...</th>\n",
       "      <th>bye_runs</th>\n",
       "      <th>legbye_runs</th>\n",
       "      <th>noball_runs</th>\n",
       "      <th>penalty_runs</th>\n",
       "      <th>batsman_runs</th>\n",
       "      <th>extra_runs</th>\n",
       "      <th>total_runs</th>\n",
       "      <th>player_dismissed</th>\n",
       "      <th>dismissal_kind</th>\n",
       "      <th>fielder</th>\n",
       "    </tr>\n",
       "  </thead>\n",
       "  <tbody>\n",
       "    <tr>\n",
       "      <th>12507</th>\n",
       "      <td>53</td>\n",
       "      <td>2</td>\n",
       "      <td>Kolkata Knight Riders</td>\n",
       "      <td>Mumbai Indians</td>\n",
       "      <td>9</td>\n",
       "      <td>5</td>\n",
       "      <td>YK Pathan</td>\n",
       "      <td>MK Pandey</td>\n",
       "      <td>R Vinay Kumar</td>\n",
       "      <td>0</td>\n",
       "      <td>...</td>\n",
       "      <td>0</td>\n",
       "      <td>0</td>\n",
       "      <td>0</td>\n",
       "      <td>0</td>\n",
       "      <td>0</td>\n",
       "      <td>1</td>\n",
       "      <td>1</td>\n",
       "      <td>NaN</td>\n",
       "      <td>NaN</td>\n",
       "      <td>NaN</td>\n",
       "    </tr>\n",
       "    <tr>\n",
       "      <th>149121</th>\n",
       "      <td>631</td>\n",
       "      <td>1</td>\n",
       "      <td>Kolkata Knight Riders</td>\n",
       "      <td>Sunrisers Hyderabad</td>\n",
       "      <td>20</td>\n",
       "      <td>4</td>\n",
       "      <td>SA Yadav</td>\n",
       "      <td>YK Pathan</td>\n",
       "      <td>B Kumar</td>\n",
       "      <td>0</td>\n",
       "      <td>...</td>\n",
       "      <td>0</td>\n",
       "      <td>0</td>\n",
       "      <td>0</td>\n",
       "      <td>0</td>\n",
       "      <td>4</td>\n",
       "      <td>0</td>\n",
       "      <td>4</td>\n",
       "      <td>NaN</td>\n",
       "      <td>NaN</td>\n",
       "      <td>NaN</td>\n",
       "    </tr>\n",
       "    <tr>\n",
       "      <th>143874</th>\n",
       "      <td>608</td>\n",
       "      <td>2</td>\n",
       "      <td>Kings XI Punjab</td>\n",
       "      <td>Kolkata Knight Riders</td>\n",
       "      <td>11</td>\n",
       "      <td>1</td>\n",
       "      <td>GJ Maxwell</td>\n",
       "      <td>DA Miller</td>\n",
       "      <td>PP Chawla</td>\n",
       "      <td>0</td>\n",
       "      <td>...</td>\n",
       "      <td>0</td>\n",
       "      <td>0</td>\n",
       "      <td>0</td>\n",
       "      <td>0</td>\n",
       "      <td>2</td>\n",
       "      <td>0</td>\n",
       "      <td>2</td>\n",
       "      <td>NaN</td>\n",
       "      <td>NaN</td>\n",
       "      <td>NaN</td>\n",
       "    </tr>\n",
       "    <tr>\n",
       "      <th>36011</th>\n",
       "      <td>154</td>\n",
       "      <td>2</td>\n",
       "      <td>Delhi Daredevils</td>\n",
       "      <td>Kolkata Knight Riders</td>\n",
       "      <td>9</td>\n",
       "      <td>1</td>\n",
       "      <td>DA Warner</td>\n",
       "      <td>AB de Villiers</td>\n",
       "      <td>I Sharma</td>\n",
       "      <td>0</td>\n",
       "      <td>...</td>\n",
       "      <td>0</td>\n",
       "      <td>0</td>\n",
       "      <td>0</td>\n",
       "      <td>0</td>\n",
       "      <td>2</td>\n",
       "      <td>0</td>\n",
       "      <td>2</td>\n",
       "      <td>NaN</td>\n",
       "      <td>NaN</td>\n",
       "      <td>NaN</td>\n",
       "    </tr>\n",
       "    <tr>\n",
       "      <th>105542</th>\n",
       "      <td>445</td>\n",
       "      <td>2</td>\n",
       "      <td>Kolkata Knight Riders</td>\n",
       "      <td>Pune Warriors</td>\n",
       "      <td>6</td>\n",
       "      <td>6</td>\n",
       "      <td>YK Pathan</td>\n",
       "      <td>RN ten Doeschate</td>\n",
       "      <td>AD Mathews</td>\n",
       "      <td>0</td>\n",
       "      <td>...</td>\n",
       "      <td>0</td>\n",
       "      <td>0</td>\n",
       "      <td>0</td>\n",
       "      <td>0</td>\n",
       "      <td>1</td>\n",
       "      <td>0</td>\n",
       "      <td>1</td>\n",
       "      <td>NaN</td>\n",
       "      <td>NaN</td>\n",
       "      <td>NaN</td>\n",
       "    </tr>\n",
       "  </tbody>\n",
       "</table>\n",
       "<p>5 rows × 21 columns</p>\n",
       "</div>"
      ],
      "text/plain": [
       "        match_id  inning           batting_team           bowling_team  over  \\\n",
       "12507         53       2  Kolkata Knight Riders         Mumbai Indians     9   \n",
       "149121       631       1  Kolkata Knight Riders    Sunrisers Hyderabad    20   \n",
       "143874       608       2        Kings XI Punjab  Kolkata Knight Riders    11   \n",
       "36011        154       2       Delhi Daredevils  Kolkata Knight Riders     9   \n",
       "105542       445       2  Kolkata Knight Riders          Pune Warriors     6   \n",
       "\n",
       "        ball     batsman       non_striker         bowler  is_super_over  ...  \\\n",
       "12507      5   YK Pathan         MK Pandey  R Vinay Kumar              0  ...   \n",
       "149121     4    SA Yadav         YK Pathan        B Kumar              0  ...   \n",
       "143874     1  GJ Maxwell         DA Miller      PP Chawla              0  ...   \n",
       "36011      1   DA Warner    AB de Villiers       I Sharma              0  ...   \n",
       "105542     6   YK Pathan  RN ten Doeschate     AD Mathews              0  ...   \n",
       "\n",
       "        bye_runs  legbye_runs  noball_runs  penalty_runs  batsman_runs  \\\n",
       "12507          0            0            0             0             0   \n",
       "149121         0            0            0             0             4   \n",
       "143874         0            0            0             0             2   \n",
       "36011          0            0            0             0             2   \n",
       "105542         0            0            0             0             1   \n",
       "\n",
       "        extra_runs  total_runs  player_dismissed dismissal_kind fielder  \n",
       "12507            1           1               NaN            NaN     NaN  \n",
       "149121           0           4               NaN            NaN     NaN  \n",
       "143874           0           2               NaN            NaN     NaN  \n",
       "36011            0           2               NaN            NaN     NaN  \n",
       "105542           0           1               NaN            NaN     NaN  \n",
       "\n",
       "[5 rows x 21 columns]"
      ]
     },
     "execution_count": 184,
     "metadata": {},
     "output_type": "execute_result"
    }
   ],
   "source": [
    "delivery.sample(5)"
   ]
  },
  {
   "cell_type": "code",
   "execution_count": 185,
   "id": "5ffa5624",
   "metadata": {},
   "outputs": [
    {
     "data": {
      "text/html": [
       "<div>\n",
       "<style scoped>\n",
       "    .dataframe tbody tr th:only-of-type {\n",
       "        vertical-align: middle;\n",
       "    }\n",
       "\n",
       "    .dataframe tbody tr th {\n",
       "        vertical-align: top;\n",
       "    }\n",
       "\n",
       "    .dataframe thead th {\n",
       "        text-align: right;\n",
       "    }\n",
       "</style>\n",
       "<table border=\"1\" class=\"dataframe\">\n",
       "  <thead>\n",
       "    <tr style=\"text-align: right;\">\n",
       "      <th></th>\n",
       "      <th>id</th>\n",
       "      <th>season</th>\n",
       "      <th>city</th>\n",
       "      <th>date</th>\n",
       "      <th>team1</th>\n",
       "      <th>team2</th>\n",
       "      <th>toss_winner</th>\n",
       "      <th>toss_decision</th>\n",
       "      <th>result</th>\n",
       "      <th>dl_applied</th>\n",
       "      <th>winner</th>\n",
       "      <th>win_by_runs</th>\n",
       "      <th>win_by_wickets</th>\n",
       "      <th>player_of_match</th>\n",
       "      <th>venue</th>\n",
       "      <th>umpire1</th>\n",
       "      <th>umpire2</th>\n",
       "      <th>umpire3</th>\n",
       "    </tr>\n",
       "  </thead>\n",
       "  <tbody>\n",
       "    <tr>\n",
       "      <th>294</th>\n",
       "      <td>295</td>\n",
       "      <td>2011</td>\n",
       "      <td>Mumbai</td>\n",
       "      <td>2011-05-16</td>\n",
       "      <td>Pune Warriors</td>\n",
       "      <td>Deccan Chargers</td>\n",
       "      <td>Deccan Chargers</td>\n",
       "      <td>field</td>\n",
       "      <td>normal</td>\n",
       "      <td>0</td>\n",
       "      <td>Deccan Chargers</td>\n",
       "      <td>0</td>\n",
       "      <td>6</td>\n",
       "      <td>A Mishra</td>\n",
       "      <td>Dr DY Patil Sports Academy</td>\n",
       "      <td>S Ravi</td>\n",
       "      <td>SK Tarapore</td>\n",
       "      <td>NaN</td>\n",
       "    </tr>\n",
       "    <tr>\n",
       "      <th>354</th>\n",
       "      <td>355</td>\n",
       "      <td>2012</td>\n",
       "      <td>Mumbai</td>\n",
       "      <td>2012-05-06</td>\n",
       "      <td>Chennai Super Kings</td>\n",
       "      <td>Mumbai Indians</td>\n",
       "      <td>Mumbai Indians</td>\n",
       "      <td>field</td>\n",
       "      <td>normal</td>\n",
       "      <td>0</td>\n",
       "      <td>Mumbai Indians</td>\n",
       "      <td>0</td>\n",
       "      <td>2</td>\n",
       "      <td>DR Smith</td>\n",
       "      <td>Wankhede Stadium</td>\n",
       "      <td>Asad Rauf</td>\n",
       "      <td>S Asnani</td>\n",
       "      <td>NaN</td>\n",
       "    </tr>\n",
       "    <tr>\n",
       "      <th>131</th>\n",
       "      <td>132</td>\n",
       "      <td>2009</td>\n",
       "      <td>Port Elizabeth</td>\n",
       "      <td>2009-04-27</td>\n",
       "      <td>Mumbai Indians</td>\n",
       "      <td>Kolkata Knight Riders</td>\n",
       "      <td>Mumbai Indians</td>\n",
       "      <td>bat</td>\n",
       "      <td>normal</td>\n",
       "      <td>0</td>\n",
       "      <td>Mumbai Indians</td>\n",
       "      <td>92</td>\n",
       "      <td>0</td>\n",
       "      <td>SR Tendulkar</td>\n",
       "      <td>St George's Park</td>\n",
       "      <td>BG Jerling</td>\n",
       "      <td>RB Tiffin</td>\n",
       "      <td>NaN</td>\n",
       "    </tr>\n",
       "    <tr>\n",
       "      <th>161</th>\n",
       "      <td>162</td>\n",
       "      <td>2009</td>\n",
       "      <td>Port Elizabeth</td>\n",
       "      <td>2009-05-16</td>\n",
       "      <td>Mumbai Indians</td>\n",
       "      <td>Chennai Super Kings</td>\n",
       "      <td>Mumbai Indians</td>\n",
       "      <td>bat</td>\n",
       "      <td>normal</td>\n",
       "      <td>0</td>\n",
       "      <td>Chennai Super Kings</td>\n",
       "      <td>0</td>\n",
       "      <td>7</td>\n",
       "      <td>ML Hayden</td>\n",
       "      <td>St George's Park</td>\n",
       "      <td>SK Tarapore</td>\n",
       "      <td>SJA Taufel</td>\n",
       "      <td>NaN</td>\n",
       "    </tr>\n",
       "    <tr>\n",
       "      <th>155</th>\n",
       "      <td>156</td>\n",
       "      <td>2009</td>\n",
       "      <td>Centurion</td>\n",
       "      <td>2009-05-12</td>\n",
       "      <td>Kolkata Knight Riders</td>\n",
       "      <td>Royal Challengers Bangalore</td>\n",
       "      <td>Royal Challengers Bangalore</td>\n",
       "      <td>field</td>\n",
       "      <td>normal</td>\n",
       "      <td>0</td>\n",
       "      <td>Royal Challengers Bangalore</td>\n",
       "      <td>0</td>\n",
       "      <td>6</td>\n",
       "      <td>LRPL Taylor</td>\n",
       "      <td>SuperSport Park</td>\n",
       "      <td>M Erasmus</td>\n",
       "      <td>SS Hazare</td>\n",
       "      <td>NaN</td>\n",
       "    </tr>\n",
       "  </tbody>\n",
       "</table>\n",
       "</div>"
      ],
      "text/plain": [
       "      id  season            city        date                  team1  \\\n",
       "294  295    2011          Mumbai  2011-05-16          Pune Warriors   \n",
       "354  355    2012          Mumbai  2012-05-06    Chennai Super Kings   \n",
       "131  132    2009  Port Elizabeth  2009-04-27         Mumbai Indians   \n",
       "161  162    2009  Port Elizabeth  2009-05-16         Mumbai Indians   \n",
       "155  156    2009       Centurion  2009-05-12  Kolkata Knight Riders   \n",
       "\n",
       "                           team2                  toss_winner toss_decision  \\\n",
       "294              Deccan Chargers              Deccan Chargers         field   \n",
       "354               Mumbai Indians               Mumbai Indians         field   \n",
       "131        Kolkata Knight Riders               Mumbai Indians           bat   \n",
       "161          Chennai Super Kings               Mumbai Indians           bat   \n",
       "155  Royal Challengers Bangalore  Royal Challengers Bangalore         field   \n",
       "\n",
       "     result  dl_applied                       winner  win_by_runs  \\\n",
       "294  normal           0              Deccan Chargers            0   \n",
       "354  normal           0               Mumbai Indians            0   \n",
       "131  normal           0               Mumbai Indians           92   \n",
       "161  normal           0          Chennai Super Kings            0   \n",
       "155  normal           0  Royal Challengers Bangalore            0   \n",
       "\n",
       "     win_by_wickets player_of_match                       venue      umpire1  \\\n",
       "294               6        A Mishra  Dr DY Patil Sports Academy       S Ravi   \n",
       "354               2        DR Smith            Wankhede Stadium    Asad Rauf   \n",
       "131               0    SR Tendulkar            St George's Park   BG Jerling   \n",
       "161               7       ML Hayden            St George's Park  SK Tarapore   \n",
       "155               6     LRPL Taylor             SuperSport Park    M Erasmus   \n",
       "\n",
       "         umpire2 umpire3  \n",
       "294  SK Tarapore     NaN  \n",
       "354     S Asnani     NaN  \n",
       "131    RB Tiffin     NaN  \n",
       "161   SJA Taufel     NaN  \n",
       "155    SS Hazare     NaN  "
      ]
     },
     "execution_count": 185,
     "metadata": {},
     "output_type": "execute_result"
    }
   ],
   "source": [
    "matches.sample(5)"
   ]
  },
  {
   "cell_type": "code",
   "execution_count": 186,
   "id": "2b4c457e",
   "metadata": {},
   "outputs": [
    {
     "name": "stdout",
     "output_type": "stream",
     "text": [
      "Shape of Delivery DataFrame: (179078, 21)\n",
      "Shape of Matches DataFrame: (756, 18)\n"
     ]
    }
   ],
   "source": [
    "print(\"Shape of Delivery DataFrame:\",delivery.shape)\n",
    "print(\"Shape of Matches DataFrame:\",matches.shape)"
   ]
  },
  {
   "cell_type": "markdown",
   "id": "f3f54e1a",
   "metadata": {},
   "source": [
    "### MCQ "
   ]
  },
  {
   "cell_type": "markdown",
   "id": "df4330af",
   "metadata": {},
   "source": [
    "### 1. Which of the following is the right way to merge 2 datasets for getting better insights from the data"
   ]
  },
  {
   "cell_type": "code",
   "execution_count": 187,
   "id": "334ff37a",
   "metadata": {},
   "outputs": [
    {
     "data": {
      "text/html": [
       "<div>\n",
       "<style scoped>\n",
       "    .dataframe tbody tr th:only-of-type {\n",
       "        vertical-align: middle;\n",
       "    }\n",
       "\n",
       "    .dataframe tbody tr th {\n",
       "        vertical-align: top;\n",
       "    }\n",
       "\n",
       "    .dataframe thead th {\n",
       "        text-align: right;\n",
       "    }\n",
       "</style>\n",
       "<table border=\"1\" class=\"dataframe\">\n",
       "  <thead>\n",
       "    <tr style=\"text-align: right;\">\n",
       "      <th></th>\n",
       "      <th>match_id</th>\n",
       "      <th>inning</th>\n",
       "      <th>batting_team</th>\n",
       "      <th>bowling_team</th>\n",
       "      <th>over</th>\n",
       "      <th>ball</th>\n",
       "      <th>batsman</th>\n",
       "      <th>non_striker</th>\n",
       "      <th>bowler</th>\n",
       "      <th>is_super_over</th>\n",
       "      <th>...</th>\n",
       "      <th>result</th>\n",
       "      <th>dl_applied</th>\n",
       "      <th>winner</th>\n",
       "      <th>win_by_runs</th>\n",
       "      <th>win_by_wickets</th>\n",
       "      <th>player_of_match</th>\n",
       "      <th>venue</th>\n",
       "      <th>umpire1</th>\n",
       "      <th>umpire2</th>\n",
       "      <th>umpire3</th>\n",
       "    </tr>\n",
       "  </thead>\n",
       "  <tbody>\n",
       "    <tr>\n",
       "      <th>127385</th>\n",
       "      <td>537</td>\n",
       "      <td>1</td>\n",
       "      <td>Sunrisers Hyderabad</td>\n",
       "      <td>Kolkata Knight Riders</td>\n",
       "      <td>3</td>\n",
       "      <td>3</td>\n",
       "      <td>DA Warner</td>\n",
       "      <td>S Dhawan</td>\n",
       "      <td>J Botha</td>\n",
       "      <td>0</td>\n",
       "      <td>...</td>\n",
       "      <td>normal</td>\n",
       "      <td>1</td>\n",
       "      <td>Sunrisers Hyderabad</td>\n",
       "      <td>16</td>\n",
       "      <td>0</td>\n",
       "      <td>DA Warner</td>\n",
       "      <td>Dr. Y.S. Rajasekhara Reddy ACA-VDCA Cricket St...</td>\n",
       "      <td>RK Illingworth</td>\n",
       "      <td>VA Kulkarni</td>\n",
       "      <td>NaN</td>\n",
       "    </tr>\n",
       "    <tr>\n",
       "      <th>156924</th>\n",
       "      <td>7921</td>\n",
       "      <td>1</td>\n",
       "      <td>Sunrisers Hyderabad</td>\n",
       "      <td>Rajasthan Royals</td>\n",
       "      <td>10</td>\n",
       "      <td>5</td>\n",
       "      <td>A Hales</td>\n",
       "      <td>KS Williamson</td>\n",
       "      <td>BA Stokes</td>\n",
       "      <td>0</td>\n",
       "      <td>...</td>\n",
       "      <td>normal</td>\n",
       "      <td>0</td>\n",
       "      <td>Sunrisers Hyderabad</td>\n",
       "      <td>11</td>\n",
       "      <td>0</td>\n",
       "      <td>KS Williamson</td>\n",
       "      <td>Sawai Mansingh Stadium</td>\n",
       "      <td>Bruce Oxenford</td>\n",
       "      <td>A Nanda Kishore</td>\n",
       "      <td>S Ravi</td>\n",
       "    </tr>\n",
       "    <tr>\n",
       "      <th>28109</th>\n",
       "      <td>121</td>\n",
       "      <td>2</td>\n",
       "      <td>Deccan Chargers</td>\n",
       "      <td>Kolkata Knight Riders</td>\n",
       "      <td>11</td>\n",
       "      <td>6</td>\n",
       "      <td>RG Sharma</td>\n",
       "      <td>HH Gibbs</td>\n",
       "      <td>M Kartik</td>\n",
       "      <td>0</td>\n",
       "      <td>...</td>\n",
       "      <td>normal</td>\n",
       "      <td>0</td>\n",
       "      <td>Deccan Chargers</td>\n",
       "      <td>0</td>\n",
       "      <td>8</td>\n",
       "      <td>RP Singh</td>\n",
       "      <td>Newlands</td>\n",
       "      <td>MR Benson</td>\n",
       "      <td>BR Doctrove</td>\n",
       "      <td>NaN</td>\n",
       "    </tr>\n",
       "    <tr>\n",
       "      <th>61893</th>\n",
       "      <td>262</td>\n",
       "      <td>1</td>\n",
       "      <td>Chennai Super Kings</td>\n",
       "      <td>Pune Warriors</td>\n",
       "      <td>11</td>\n",
       "      <td>3</td>\n",
       "      <td>MS Dhoni</td>\n",
       "      <td>MEK Hussey</td>\n",
       "      <td>Yuvraj Singh</td>\n",
       "      <td>0</td>\n",
       "      <td>...</td>\n",
       "      <td>normal</td>\n",
       "      <td>0</td>\n",
       "      <td>Chennai Super Kings</td>\n",
       "      <td>25</td>\n",
       "      <td>0</td>\n",
       "      <td>MEK Hussey</td>\n",
       "      <td>MA Chidambaram Stadium, Chepauk</td>\n",
       "      <td>Aleem Dar</td>\n",
       "      <td>RB Tiffin</td>\n",
       "      <td>NaN</td>\n",
       "    </tr>\n",
       "    <tr>\n",
       "      <th>34243</th>\n",
       "      <td>147</td>\n",
       "      <td>1</td>\n",
       "      <td>Deccan Chargers</td>\n",
       "      <td>Mumbai Indians</td>\n",
       "      <td>13</td>\n",
       "      <td>5</td>\n",
       "      <td>RG Sharma</td>\n",
       "      <td>DR Smith</td>\n",
       "      <td>ST Jayasuriya</td>\n",
       "      <td>0</td>\n",
       "      <td>...</td>\n",
       "      <td>normal</td>\n",
       "      <td>0</td>\n",
       "      <td>Deccan Chargers</td>\n",
       "      <td>19</td>\n",
       "      <td>0</td>\n",
       "      <td>RG Sharma</td>\n",
       "      <td>SuperSport Park</td>\n",
       "      <td>MR Benson</td>\n",
       "      <td>HDPK Dharmasena</td>\n",
       "      <td>NaN</td>\n",
       "    </tr>\n",
       "  </tbody>\n",
       "</table>\n",
       "<p>5 rows × 39 columns</p>\n",
       "</div>"
      ],
      "text/plain": [
       "        match_id  inning         batting_team           bowling_team  over  \\\n",
       "127385       537       1  Sunrisers Hyderabad  Kolkata Knight Riders     3   \n",
       "156924      7921       1  Sunrisers Hyderabad       Rajasthan Royals    10   \n",
       "28109        121       2      Deccan Chargers  Kolkata Knight Riders    11   \n",
       "61893        262       1  Chennai Super Kings          Pune Warriors    11   \n",
       "34243        147       1      Deccan Chargers         Mumbai Indians    13   \n",
       "\n",
       "        ball    batsman    non_striker         bowler  is_super_over  ...  \\\n",
       "127385     3  DA Warner       S Dhawan        J Botha              0  ...   \n",
       "156924     5    A Hales  KS Williamson      BA Stokes              0  ...   \n",
       "28109      6  RG Sharma       HH Gibbs       M Kartik              0  ...   \n",
       "61893      3   MS Dhoni     MEK Hussey   Yuvraj Singh              0  ...   \n",
       "34243      5  RG Sharma       DR Smith  ST Jayasuriya              0  ...   \n",
       "\n",
       "        result  dl_applied               winner  win_by_runs  win_by_wickets  \\\n",
       "127385  normal           1  Sunrisers Hyderabad           16               0   \n",
       "156924  normal           0  Sunrisers Hyderabad           11               0   \n",
       "28109   normal           0      Deccan Chargers            0               8   \n",
       "61893   normal           0  Chennai Super Kings           25               0   \n",
       "34243   normal           0      Deccan Chargers           19               0   \n",
       "\n",
       "        player_of_match                                              venue  \\\n",
       "127385        DA Warner  Dr. Y.S. Rajasekhara Reddy ACA-VDCA Cricket St...   \n",
       "156924    KS Williamson                             Sawai Mansingh Stadium   \n",
       "28109          RP Singh                                           Newlands   \n",
       "61893        MEK Hussey                    MA Chidambaram Stadium, Chepauk   \n",
       "34243         RG Sharma                                    SuperSport Park   \n",
       "\n",
       "               umpire1          umpire2 umpire3  \n",
       "127385  RK Illingworth      VA Kulkarni     NaN  \n",
       "156924  Bruce Oxenford  A Nanda Kishore  S Ravi  \n",
       "28109        MR Benson      BR Doctrove     NaN  \n",
       "61893        Aleem Dar        RB Tiffin     NaN  \n",
       "34243        MR Benson  HDPK Dharmasena     NaN  \n",
       "\n",
       "[5 rows x 39 columns]"
      ]
     },
     "execution_count": 187,
     "metadata": {},
     "output_type": "execute_result"
    }
   ],
   "source": [
    "data=pd.merge(left=delivery,right=matches,left_on='match_id',right_on='id')\n",
    "data.sample(5)"
   ]
  },
  {
   "cell_type": "code",
   "execution_count": 188,
   "id": "e2232b6e",
   "metadata": {},
   "outputs": [
    {
     "name": "stdout",
     "output_type": "stream",
     "text": [
      "<class 'pandas.core.frame.DataFrame'>\n",
      "Int64Index: 179078 entries, 0 to 179077\n",
      "Data columns (total 39 columns):\n",
      " #   Column            Non-Null Count   Dtype \n",
      "---  ------            --------------   ----- \n",
      " 0   match_id          179078 non-null  int64 \n",
      " 1   inning            179078 non-null  int64 \n",
      " 2   batting_team      179078 non-null  object\n",
      " 3   bowling_team      179078 non-null  object\n",
      " 4   over              179078 non-null  int64 \n",
      " 5   ball              179078 non-null  int64 \n",
      " 6   batsman           179078 non-null  object\n",
      " 7   non_striker       179078 non-null  object\n",
      " 8   bowler            179078 non-null  object\n",
      " 9   is_super_over     179078 non-null  int64 \n",
      " 10  wide_runs         179078 non-null  int64 \n",
      " 11  bye_runs          179078 non-null  int64 \n",
      " 12  legbye_runs       179078 non-null  int64 \n",
      " 13  noball_runs       179078 non-null  int64 \n",
      " 14  penalty_runs      179078 non-null  int64 \n",
      " 15  batsman_runs      179078 non-null  int64 \n",
      " 16  extra_runs        179078 non-null  int64 \n",
      " 17  total_runs        179078 non-null  int64 \n",
      " 18  player_dismissed  8834 non-null    object\n",
      " 19  dismissal_kind    8834 non-null    object\n",
      " 20  fielder           6448 non-null    object\n",
      " 21  id                179078 non-null  int64 \n",
      " 22  season            179078 non-null  int64 \n",
      " 23  city              177378 non-null  object\n",
      " 24  date              179078 non-null  object\n",
      " 25  team1             179078 non-null  object\n",
      " 26  team2             179078 non-null  object\n",
      " 27  toss_winner       179078 non-null  object\n",
      " 28  toss_decision     179078 non-null  object\n",
      " 29  result            179078 non-null  object\n",
      " 30  dl_applied        179078 non-null  int64 \n",
      " 31  winner            178706 non-null  object\n",
      " 32  win_by_runs       179078 non-null  int64 \n",
      " 33  win_by_wickets    179078 non-null  int64 \n",
      " 34  player_of_match   178706 non-null  object\n",
      " 35  venue             179078 non-null  object\n",
      " 36  umpire1           178578 non-null  object\n",
      " 37  umpire2           178578 non-null  object\n",
      " 38  umpire3           28366 non-null   object\n",
      "dtypes: int64(18), object(21)\n",
      "memory usage: 54.7+ MB\n"
     ]
    }
   ],
   "source": [
    "data.info()"
   ]
  },
  {
   "cell_type": "markdown",
   "id": "abc4efe2",
   "metadata": {},
   "source": [
    "### 2. The column which has the most missing values according to the data is:\n"
   ]
  },
  {
   "cell_type": "code",
   "execution_count": 189,
   "id": "02d8577f",
   "metadata": {},
   "outputs": [
    {
     "data": {
      "text/plain": [
       "match_id                 0\n",
       "inning                   0\n",
       "batting_team             0\n",
       "bowling_team             0\n",
       "over                     0\n",
       "ball                     0\n",
       "batsman                  0\n",
       "non_striker              0\n",
       "bowler                   0\n",
       "is_super_over            0\n",
       "wide_runs                0\n",
       "bye_runs                 0\n",
       "legbye_runs              0\n",
       "noball_runs              0\n",
       "penalty_runs             0\n",
       "batsman_runs             0\n",
       "extra_runs               0\n",
       "total_runs               0\n",
       "player_dismissed    170244\n",
       "dismissal_kind      170244\n",
       "fielder             172630\n",
       "id                       0\n",
       "season                   0\n",
       "city                  1700\n",
       "date                     0\n",
       "team1                    0\n",
       "team2                    0\n",
       "toss_winner              0\n",
       "toss_decision            0\n",
       "result                   0\n",
       "dl_applied               0\n",
       "winner                 372\n",
       "win_by_runs              0\n",
       "win_by_wickets           0\n",
       "player_of_match        372\n",
       "venue                    0\n",
       "umpire1                500\n",
       "umpire2                500\n",
       "umpire3             150712\n",
       "dtype: int64"
      ]
     },
     "execution_count": 189,
     "metadata": {},
     "output_type": "execute_result"
    }
   ],
   "source": [
    "## missing value check\n",
    "data.isnull().sum()"
   ]
  },
  {
   "cell_type": "markdown",
   "id": "ebe1d4fc",
   "metadata": {},
   "source": [
    "### 3. City which hosted most number of seasons according to the data is:\n"
   ]
  },
  {
   "cell_type": "code",
   "execution_count": 190,
   "id": "b37d4d26",
   "metadata": {},
   "outputs": [
    {
     "name": "stdout",
     "output_type": "stream",
     "text": [
      "City with the most number of seasons: Mumbai\n"
     ]
    }
   ],
   "source": [
    "city_season_count=data.groupby(['city','season']).size().reset_index(name='season_count')\n",
    "most_seasons_city = city_season_count.groupby('city')['season_count'].sum().idxmax()\n",
    "print(\"City with the most number of seasons:\", most_seasons_city)"
   ]
  },
  {
   "cell_type": "markdown",
   "id": "5e93f5ee",
   "metadata": {},
   "source": [
    "### 4.Which year has the most number of matches played?"
   ]
  },
  {
   "cell_type": "code",
   "execution_count": 191,
   "id": "38d3b55f",
   "metadata": {},
   "outputs": [
    {
     "name": "stdout",
     "output_type": "stream",
     "text": [
      "Year with the most number of matches: 2013\n"
     ]
    }
   ],
   "source": [
    "data['year'] = pd.to_datetime(data['date']).dt.year\n",
    "matches_per_year = data['year'].value_counts()\n",
    "year_with_most_matches = matches_per_year.idxmax()\n",
    "\n",
    "print(\"Year with the most number of matches:\", year_with_most_matches)"
   ]
  },
  {
   "cell_type": "markdown",
   "id": "555bb85e",
   "metadata": {},
   "source": [
    "### 5. Maximum wins by Mumbai Indians in 2011 are\n"
   ]
  },
  {
   "cell_type": "code",
   "execution_count": 192,
   "id": "22219e1d",
   "metadata": {},
   "outputs": [
    {
     "name": "stdout",
     "output_type": "stream",
     "text": [
      "Maximum wins by Mumbai Indians in 2011: 10\n"
     ]
    }
   ],
   "source": [
    "mumbai_indians_2011 = data[(data['year'] == 2011) & (data['winner'] == 'Mumbai Indians')]\n",
    "max_wins = mumbai_indians_2011['match_id'].nunique()\n",
    "print(\"Maximum wins by Mumbai Indians in 2011:\", max_wins)"
   ]
  },
  {
   "cell_type": "markdown",
   "id": "60fe7f6d",
   "metadata": {},
   "source": [
    "### 6. For 'toss_decision' feature what kind of plot is suitable?"
   ]
  },
  {
   "cell_type": "code",
   "execution_count": 193,
   "id": "f752d614",
   "metadata": {},
   "outputs": [
    {
     "data": {
      "image/png": "[encoded data removed]",
      "text/plain": [
       "<Figure size 640x480 with 1 Axes>"
      ]
     },
     "metadata": {},
     "output_type": "display_data"
    }
   ],
   "source": [
    "# Plotting the count plot for 'toss_decision'\n",
    "sns.countplot(x='toss_decision', data=data)\n",
    "plt.title('Distribution of Toss Decisions')\n",
    "plt.xlabel('Toss Decision')\n",
    "plt.ylabel('Count')\n",
    "plt.show()"
   ]
  },
  {
   "cell_type": "code",
   "execution_count": 194,
   "id": "9e4d5afc",
   "metadata": {},
   "outputs": [
    {
     "data": {
      "image/png": "[encoded data removed]",
      "text/plain": [
       "<Figure size 640x480 with 1 Axes>"
      ]
     },
     "metadata": {},
     "output_type": "display_data"
    }
   ],
   "source": [
    "# Plotting a pie chart\n",
    "toss_decision_counts = data['toss_decision'].value_counts()\n",
    "plt.pie(toss_decision_counts, labels=toss_decision_counts.index, autopct='%1.1f%%', startangle=90)\n",
    "plt.title('Distribution of Toss Decisions')\n",
    "plt.show()"
   ]
  },
  {
   "cell_type": "markdown",
   "id": "8bf63cef",
   "metadata": {},
   "source": [
    "### 7.  What is the percentage of getting bat and field in feature 'toss_descision'?"
   ]
  },
  {
   "cell_type": "code",
   "execution_count": 195,
   "id": "d07e252f",
   "metadata": {},
   "outputs": [
    {
     "name": "stdout",
     "output_type": "stream",
     "text": [
      "Percentage of choosing to bat: 39.008700119501\n",
      "Percentage of choosing to field: 60.99129988049901\n"
     ]
    }
   ],
   "source": [
    "# Calculate the percentage of 'bat' and 'field' decisions\n",
    "toss_decision_percentage = data['toss_decision'].value_counts(normalize=True) * 100\n",
    "\n",
    "print(\"Percentage of choosing to bat:\", toss_decision_percentage['bat'])\n",
    "print(\"Percentage of choosing to field:\", toss_decision_percentage['field'])"
   ]
  },
  {
   "cell_type": "markdown",
   "id": "f08ee0bf",
   "metadata": {},
   "source": [
    "### 8.Which statement holds true\n",
    "\n",
    "    A) Teams winning tosses and electing field first have won more number of matches.\n",
    "    B) Teams winning tosses and electing bat first have won more number of matches.\n",
    "    C) Both A and B\n",
    "    D) None of the above"
   ]
  },
  {
   "cell_type": "markdown",
   "id": "d06a4230",
   "metadata": {},
   "source": [
    "### Analysis for Team winning tosses and Electing Bat/Field First"
   ]
  },
  {
   "cell_type": "code",
   "execution_count": 196,
   "id": "cec85422",
   "metadata": {},
   "outputs": [
    {
     "name": "stdout",
     "output_type": "stream",
     "text": [
      "Number of wins when choosing to field: 60110\n",
      "Number of wins when choosing to bat: 32804\n"
     ]
    }
   ],
   "source": [
    "# Filter data for matches where the toss winner chose to field\n",
    "field_wins = data[(data['toss_decision'] == 'field') & (data['winner'] == data['toss_winner'])]\n",
    "\n",
    "# Filter data for matches where the toss winner chose to bat\n",
    "bat_wins = data[(data['toss_decision'] == 'bat') & (data['winner'] == data['toss_winner'])]\n",
    "\n",
    "# Count the number of wins in each case\n",
    "field_wins_count = field_wins.shape[0]\n",
    "bat_wins_count = bat_wins.shape[0]\n",
    "\n",
    "# Print the results\n",
    "print(\"Number of wins when choosing to field:\", field_wins_count)\n",
    "print(\"Number of wins when choosing to bat:\", bat_wins_count)\n"
   ]
  },
  {
   "cell_type": "markdown",
   "id": "4a68d929",
   "metadata": {},
   "source": [
    "### 9. In which years where taking batting second have won more number of matches?"
   ]
  },
  {
   "cell_type": "code",
   "execution_count": 197,
   "id": "c6b62459",
   "metadata": {},
   "outputs": [
    {
     "name": "stdout",
     "output_type": "stream",
     "text": [
      "years where batting second has won the most number of matches:\n"
     ]
    },
    {
     "data": {
      "text/html": [
       "<div>\n",
       "<style scoped>\n",
       "    .dataframe tbody tr th:only-of-type {\n",
       "        vertical-align: middle;\n",
       "    }\n",
       "\n",
       "    .dataframe tbody tr th {\n",
       "        vertical-align: top;\n",
       "    }\n",
       "\n",
       "    .dataframe thead th {\n",
       "        text-align: right;\n",
       "    }\n",
       "</style>\n",
       "<table border=\"1\" class=\"dataframe\">\n",
       "  <thead>\n",
       "    <tr style=\"text-align: right;\">\n",
       "      <th></th>\n",
       "      <th>year</th>\n",
       "      <th>num_wins</th>\n",
       "    </tr>\n",
       "  </thead>\n",
       "  <tbody>\n",
       "    <tr>\n",
       "      <th>4</th>\n",
       "      <td>2012</td>\n",
       "      <td>9402</td>\n",
       "    </tr>\n",
       "    <tr>\n",
       "      <th>8</th>\n",
       "      <td>2016</td>\n",
       "      <td>9118</td>\n",
       "    </tr>\n",
       "    <tr>\n",
       "      <th>3</th>\n",
       "      <td>2011</td>\n",
       "      <td>8939</td>\n",
       "    </tr>\n",
       "    <tr>\n",
       "      <th>5</th>\n",
       "      <td>2013</td>\n",
       "      <td>8752</td>\n",
       "    </tr>\n",
       "    <tr>\n",
       "      <th>6</th>\n",
       "      <td>2014</td>\n",
       "      <td>8656</td>\n",
       "    </tr>\n",
       "    <tr>\n",
       "      <th>11</th>\n",
       "      <td>2019</td>\n",
       "      <td>8365</td>\n",
       "    </tr>\n",
       "    <tr>\n",
       "      <th>0</th>\n",
       "      <td>2008</td>\n",
       "      <td>7842</td>\n",
       "    </tr>\n",
       "    <tr>\n",
       "      <th>10</th>\n",
       "      <td>2018</td>\n",
       "      <td>7592</td>\n",
       "    </tr>\n",
       "    <tr>\n",
       "      <th>9</th>\n",
       "      <td>2017</td>\n",
       "      <td>7278</td>\n",
       "    </tr>\n",
       "    <tr>\n",
       "      <th>1</th>\n",
       "      <td>2009</td>\n",
       "      <td>6839</td>\n",
       "    </tr>\n",
       "    <tr>\n",
       "      <th>2</th>\n",
       "      <td>2010</td>\n",
       "      <td>6588</td>\n",
       "    </tr>\n",
       "    <tr>\n",
       "      <th>7</th>\n",
       "      <td>2015</td>\n",
       "      <td>5371</td>\n",
       "    </tr>\n",
       "  </tbody>\n",
       "</table>\n",
       "</div>"
      ],
      "text/plain": [
       "    year  num_wins\n",
       "4   2012      9402\n",
       "8   2016      9118\n",
       "3   2011      8939\n",
       "5   2013      8752\n",
       "6   2014      8656\n",
       "11  2019      8365\n",
       "0   2008      7842\n",
       "10  2018      7592\n",
       "9   2017      7278\n",
       "1   2009      6839\n",
       "2   2010      6588\n",
       "7   2015      5371"
      ]
     },
     "execution_count": 197,
     "metadata": {},
     "output_type": "execute_result"
    }
   ],
   "source": [
    "batting_second_wins = data[data['win_by_wickets'] > 0]\n",
    "\n",
    "batting_second_wins_by_year = batting_second_wins.groupby('year')['id'].count().reset_index(name='num_wins')\n",
    "\n",
    "print(\"years where batting second has won the most number of matches:\")\n",
    "batting_second_wins_by_year.sort_values(by='num_wins',ascending=False)"
   ]
  },
  {
   "cell_type": "markdown",
   "id": "3c615d05",
   "metadata": {},
   "source": [
    "### 10. To plot the most consistent batsmen among top 10 run getters, what plotting technique we use?"
   ]
  },
  {
   "cell_type": "code",
   "execution_count": 198,
   "id": "4da6d56e",
   "metadata": {},
   "outputs": [
    {
     "data": {
      "image/png": "[encoded data removed]",
      "text/plain": [
       "<Figure size 1200x600 with 1 Axes>"
      ]
     },
     "metadata": {},
     "output_type": "display_data"
    }
   ],
   "source": [
    "top_10_scorer= data.groupby('batsman')['batsman_runs'].sum().nlargest(10).index\n",
    "\n",
    "\n",
    "top_10_batsmen_data = data[data['batsman'].isin(top_10_scorer)]\n",
    "\n",
    "\n",
    "plt.figure(figsize=(12, 6))\n",
    "for batsman in top_10_scorer:\n",
    "    batsman_data = top_10_batsmen_data[top_10_batsmen_data['batsman'] == batsman]\n",
    "    plt.plot(batsman_data['match_id'], batsman_data['batsman_runs'], label=batsman)\n",
    "\n",
    "plt.title('Consistency of Top 10 Run-Getters')\n",
    "plt.xlabel('Match ID')\n",
    "plt.ylabel('Runs Scored')\n",
    "plt.legend(loc='upper left', bbox_to_anchor=(1, 1))\n",
    "plt.show()"
   ]
  },
  {
   "cell_type": "markdown",
   "id": "6a11c0a8",
   "metadata": {},
   "source": [
    "### 11. In 2019 which batsman scored highest number of runs by hitting 6's and 4's?"
   ]
  },
  {
   "cell_type": "code",
   "execution_count": 199,
   "id": "2bca2087",
   "metadata": {},
   "outputs": [
    {
     "data": {
      "text/html": [
       "<div>\n",
       "<style scoped>\n",
       "    .dataframe tbody tr th:only-of-type {\n",
       "        vertical-align: middle;\n",
       "    }\n",
       "\n",
       "    .dataframe tbody tr th {\n",
       "        vertical-align: top;\n",
       "    }\n",
       "\n",
       "    .dataframe thead th {\n",
       "        text-align: right;\n",
       "    }\n",
       "</style>\n",
       "<table border=\"1\" class=\"dataframe\">\n",
       "  <thead>\n",
       "    <tr style=\"text-align: right;\">\n",
       "      <th></th>\n",
       "      <th>batsman</th>\n",
       "      <th>total_runs</th>\n",
       "    </tr>\n",
       "  </thead>\n",
       "  <tbody>\n",
       "    <tr>\n",
       "      <th>4</th>\n",
       "      <td>AD Russell</td>\n",
       "      <td>438</td>\n",
       "    </tr>\n",
       "  </tbody>\n",
       "</table>\n",
       "</div>"
      ],
      "text/plain": [
       "      batsman  total_runs\n",
       "4  AD Russell         438"
      ]
     },
     "execution_count": 199,
     "metadata": {},
     "output_type": "execute_result"
    }
   ],
   "source": [
    "batsman_runs= data[(data['year'] == 2019) & (data['batsman_runs'].isin([4, 6]))]\n",
    "total_runs_by_batsman = batsman_runs.groupby('batsman')['batsman_runs'].sum().reset_index(name='total_runs')\n",
    "\n",
    "total_runs_by_batsman.sort_values(by='total_runs',ascending=False).head(1)"
   ]
  },
  {
   "cell_type": "markdown",
   "id": "6691e387",
   "metadata": {},
   "source": [
    "### 12. Most number of wickets taken by a bowler is"
   ]
  },
  {
   "cell_type": "code",
   "execution_count": 200,
   "id": "12125e4a",
   "metadata": {},
   "outputs": [
    {
     "name": "stdout",
     "output_type": "stream",
     "text": [
      "Bowler with the most number of wickets:\n"
     ]
    },
    {
     "data": {
      "text/html": [
       "<div>\n",
       "<style scoped>\n",
       "    .dataframe tbody tr th:only-of-type {\n",
       "        vertical-align: middle;\n",
       "    }\n",
       "\n",
       "    .dataframe tbody tr th {\n",
       "        vertical-align: top;\n",
       "    }\n",
       "\n",
       "    .dataframe thead th {\n",
       "        text-align: right;\n",
       "    }\n",
       "</style>\n",
       "<table border=\"1\" class=\"dataframe\">\n",
       "  <thead>\n",
       "    <tr style=\"text-align: right;\">\n",
       "      <th></th>\n",
       "      <th>bowler</th>\n",
       "      <th>wickets</th>\n",
       "    </tr>\n",
       "  </thead>\n",
       "  <tbody>\n",
       "    <tr>\n",
       "      <th>290</th>\n",
       "      <td>SL Malinga</td>\n",
       "      <td>170</td>\n",
       "    </tr>\n",
       "  </tbody>\n",
       "</table>\n",
       "</div>"
      ],
      "text/plain": [
       "         bowler  wickets\n",
       "290  SL Malinga      170"
      ]
     },
     "execution_count": 200,
     "metadata": {},
     "output_type": "execute_result"
    }
   ],
   "source": [
    "bowler_wickets = data[(data['dismissal_kind'].notnull()) & (data['dismissal_kind'] != 'run out')]\n",
    "\n",
    "wickets_by_bowler = bowler_wickets.groupby('bowler')['player_dismissed'].count().reset_index(name='wickets')\n",
    "\n",
    "\n",
    "print(\"Bowler with the most number of wickets:\")\n",
    "wickets_by_bowler.sort_values(by='wickets',ascending=False).head(1)"
   ]
  },
  {
   "cell_type": "markdown",
   "id": "bb0ddafb",
   "metadata": {},
   "source": [
    "### 13.  What is the strike rate of Kohli in 2016\n",
    "    *HINT: strike rate = (Total Runs / Total Balls Faced) * 100"
   ]
  },
  {
   "cell_type": "code",
   "execution_count": 201,
   "id": "b3e9a88d",
   "metadata": {},
   "outputs": [
    {
     "name": "stdout",
     "output_type": "stream",
     "text": [
      "Virat Kohli's strike rate in 2016: 43.34075723830735\n"
     ]
    }
   ],
   "source": [
    "kohli_2016_data = data[(data['batsman'] == 'V Kohli') & (data['year'] == 2016)]\n",
    "\n",
    "total_runs_kohli_2016 = kohli_2016_data['batsman_runs'].sum()\n",
    "\n",
    "total_balls_faced_kohli_2016 = kohli_2016_data['ball'].sum()\n",
    "\n",
    "strike_rate_kohli_2016 = (total_runs_kohli_2016 / total_balls_faced_kohli_2016) * 100\n",
    "\n",
    "print(\"Virat Kohli's strike rate in 2016:\", strike_rate_kohli_2016)"
   ]
  },
  {
   "cell_type": "markdown",
   "id": "ecc00ee5",
   "metadata": {},
   "source": [
    "### 14.  Bowlers with maximum number of extras:"
   ]
  },
  {
   "cell_type": "code",
   "execution_count": 202,
   "id": "00f4ae2b",
   "metadata": {},
   "outputs": [
    {
     "data": {
      "text/html": [
       "<div>\n",
       "<style scoped>\n",
       "    .dataframe tbody tr th:only-of-type {\n",
       "        vertical-align: middle;\n",
       "    }\n",
       "\n",
       "    .dataframe tbody tr th {\n",
       "        vertical-align: top;\n",
       "    }\n",
       "\n",
       "    .dataframe thead th {\n",
       "        text-align: right;\n",
       "    }\n",
       "</style>\n",
       "<table border=\"1\" class=\"dataframe\">\n",
       "  <thead>\n",
       "    <tr style=\"text-align: right;\">\n",
       "      <th></th>\n",
       "      <th>bowler</th>\n",
       "      <th>wide_runs</th>\n",
       "      <th>bye_runs</th>\n",
       "      <th>legbye_runs</th>\n",
       "      <th>noball_runs</th>\n",
       "      <th>total_extras</th>\n",
       "    </tr>\n",
       "  </thead>\n",
       "  <tbody>\n",
       "    <tr>\n",
       "      <th>340</th>\n",
       "      <td>SL Malinga</td>\n",
       "      <td>152</td>\n",
       "      <td>28</td>\n",
       "      <td>88</td>\n",
       "      <td>20</td>\n",
       "      <td>288</td>\n",
       "    </tr>\n",
       "  </tbody>\n",
       "</table>\n",
       "</div>"
      ],
      "text/plain": [
       "         bowler  wide_runs  bye_runs  legbye_runs  noball_runs  total_extras\n",
       "340  SL Malinga        152        28           88           20           288"
      ]
     },
     "execution_count": 202,
     "metadata": {},
     "output_type": "execute_result"
    }
   ],
   "source": [
    "bowler_extras = data.groupby('bowler')[['wide_runs', 'bye_runs', 'legbye_runs', 'noball_runs']].sum().reset_index()\n",
    "\n",
    "bowler_extras['total_extras'] = bowler_extras['wide_runs'] + bowler_extras['bye_runs'] + bowler_extras['legbye_runs'] + bowler_extras['noball_runs']\n",
    "\n",
    "bowler_extras.sort_values(by='total_extras',ascending=False).head(1)"
   ]
  },
  {
   "cell_type": "markdown",
   "id": "c35013c2",
   "metadata": {},
   "source": [
    "### 15. Which venue has hosted most number of IPL matches?\n"
   ]
  },
  {
   "cell_type": "code",
   "execution_count": 203,
   "id": "3560f4be",
   "metadata": {},
   "outputs": [
    {
     "name": "stdout",
     "output_type": "stream",
     "text": [
      "Venue that has hosted the most number of IPL matches: Eden Gardens\n"
     ]
    }
   ],
   "source": [
    "most_matches_venue = data['venue'].value_counts().idxmax()\n",
    "print(\"Venue that has hosted the most number of IPL matches:\", most_matches_venue)"
   ]
  },
  {
   "cell_type": "markdown",
   "id": "c1c0480f",
   "metadata": {},
   "source": [
    "### 16. In 2017 when sunrisers hyderabad clashed against Royal Challengers Bangalore which team player won player of the match"
   ]
  },
  {
   "cell_type": "code",
   "execution_count": 204,
   "id": "75f39546",
   "metadata": {},
   "outputs": [
    {
     "name": "stdout",
     "output_type": "stream",
     "text": [
      "Player of the Match when Sunrisers Hyderabad clashed against Royal Challengers Bangalore in 2017: Yuvraj Singh\n"
     ]
    }
   ],
   "source": [
    "match_2017 = data[((data['season'] == 2017) & ((data['team1'] == 'Sunrisers Hyderabad') & (data['team2'] == 'Royal Challengers Bangalore')) | ((data['team1'] == 'Royal Challengers Bangalore') & (data['team2'] == 'Sunrisers Hyderabad')))]\n",
    "\n",
    "# Find the player of the match for the specified match\n",
    "player_of_the_match = match_2017['player_of_match'].iloc[0]\n",
    "\n",
    "print(\"Player of the Match when Sunrisers Hyderabad clashed against Royal Challengers Bangalore in 2017:\", player_of_the_match)"
   ]
  },
  {
   "cell_type": "markdown",
   "id": "d38f207f",
   "metadata": {},
   "source": [
    "### 17. Across seasons who are the top three batsman's with most number of run out?"
   ]
  },
  {
   "cell_type": "code",
   "execution_count": 205,
   "id": "9a24218f",
   "metadata": {},
   "outputs": [
    {
     "name": "stdout",
     "output_type": "stream",
     "text": [
      "Top three batsmen with the most number of run-outs across seasons:\n"
     ]
    },
    {
     "data": {
      "text/html": [
       "<div>\n",
       "<style scoped>\n",
       "    .dataframe tbody tr th:only-of-type {\n",
       "        vertical-align: middle;\n",
       "    }\n",
       "\n",
       "    .dataframe tbody tr th {\n",
       "        vertical-align: top;\n",
       "    }\n",
       "\n",
       "    .dataframe thead th {\n",
       "        text-align: right;\n",
       "    }\n",
       "</style>\n",
       "<table border=\"1\" class=\"dataframe\">\n",
       "  <thead>\n",
       "    <tr style=\"text-align: right;\">\n",
       "      <th></th>\n",
       "      <th>batsman</th>\n",
       "      <th>run_outs</th>\n",
       "    </tr>\n",
       "  </thead>\n",
       "  <tbody>\n",
       "    <tr>\n",
       "      <th>152</th>\n",
       "      <td>MS Dhoni</td>\n",
       "      <td>21</td>\n",
       "    </tr>\n",
       "    <tr>\n",
       "      <th>195</th>\n",
       "      <td>RG Sharma</td>\n",
       "      <td>17</td>\n",
       "    </tr>\n",
       "    <tr>\n",
       "      <th>112</th>\n",
       "      <td>KD Karthik</td>\n",
       "      <td>16</td>\n",
       "    </tr>\n",
       "    <tr>\n",
       "      <th>74</th>\n",
       "      <td>G Gambhir</td>\n",
       "      <td>15</td>\n",
       "    </tr>\n",
       "    <tr>\n",
       "      <th>261</th>\n",
       "      <td>V Kohli</td>\n",
       "      <td>15</td>\n",
       "    </tr>\n",
       "  </tbody>\n",
       "</table>\n",
       "</div>"
      ],
      "text/plain": [
       "        batsman  run_outs\n",
       "152    MS Dhoni        21\n",
       "195   RG Sharma        17\n",
       "112  KD Karthik        16\n",
       "74    G Gambhir        15\n",
       "261     V Kohli        15"
      ]
     },
     "execution_count": 205,
     "metadata": {},
     "output_type": "execute_result"
    }
   ],
   "source": [
    "run_outs_data = data[(data['dismissal_kind'] == 'run out')]\n",
    "\n",
    "run_outs_by_batsman = run_outs_data.groupby('batsman')['dismissal_kind'].count().reset_index(name='run_outs')\n",
    "\n",
    "print(\"Top three batsmen with the most number of run-outs across seasons:\")\n",
    "run_outs_by_batsman.sort_values(by='run_outs',ascending=False).head(5)"
   ]
  },
  {
   "cell_type": "markdown",
   "id": "fc9ae591",
   "metadata": {},
   "source": [
    "### 18. What are the total runs scored by V Kohli when the bowler was JJ Burmah?"
   ]
  },
  {
   "cell_type": "code",
   "execution_count": 206,
   "id": "36c6a24b",
   "metadata": {},
   "outputs": [
    {
     "name": "stdout",
     "output_type": "stream",
     "text": [
      "Total runs scored by Virat Kohli when the bowler was JJ Bumrah: 112\n"
     ]
    }
   ],
   "source": [
    "kohli_vs_bumrah = data[(data['batsman'] == 'V Kohli') & (data['bowler'] == 'JJ Bumrah')]\n",
    "\n",
    "total_runs_kohli_vs_bumrah = kohli_vs_bumrah['batsman_runs'].sum()\n",
    "\n",
    "print(\"Total runs scored by Virat Kohli when the bowler was JJ Bumrah:\", total_runs_kohli_vs_bumrah)"
   ]
  },
  {
   "cell_type": "markdown",
   "id": "cdb0882d",
   "metadata": {},
   "source": [
    "### 19. Across all seasons which player was dismissed the maximum number of times via caught and bowled"
   ]
  },
  {
   "cell_type": "code",
   "execution_count": 207,
   "id": "582a4e08",
   "metadata": {},
   "outputs": [
    {
     "name": "stdout",
     "output_type": "stream",
     "text": [
      "Player dismissed the maximum number of times via caught and bowled across all seasons:\n"
     ]
    },
    {
     "data": {
      "text/html": [
       "<div>\n",
       "<style scoped>\n",
       "    .dataframe tbody tr th:only-of-type {\n",
       "        vertical-align: middle;\n",
       "    }\n",
       "\n",
       "    .dataframe tbody tr th {\n",
       "        vertical-align: top;\n",
       "    }\n",
       "\n",
       "    .dataframe thead th {\n",
       "        text-align: right;\n",
       "    }\n",
       "</style>\n",
       "<table border=\"1\" class=\"dataframe\">\n",
       "  <thead>\n",
       "    <tr style=\"text-align: right;\">\n",
       "      <th></th>\n",
       "      <th>player_dismissed</th>\n",
       "      <th>dismissals</th>\n",
       "    </tr>\n",
       "  </thead>\n",
       "  <tbody>\n",
       "    <tr>\n",
       "      <th>99</th>\n",
       "      <td>SK Raina</td>\n",
       "      <td>7</td>\n",
       "    </tr>\n",
       "  </tbody>\n",
       "</table>\n",
       "</div>"
      ],
      "text/plain": [
       "   player_dismissed  dismissals\n",
       "99         SK Raina           7"
      ]
     },
     "execution_count": 207,
     "metadata": {},
     "output_type": "execute_result"
    }
   ],
   "source": [
    "caught_and_bowled_data = data[data['dismissal_kind'] == 'caught and bowled']\n",
    "\n",
    "dismissals_by_player = caught_and_bowled_data.groupby('player_dismissed')['dismissal_kind'].count().reset_index(name='dismissals')\n",
    "\n",
    "print(\"Player dismissed the maximum number of times via caught and bowled across all seasons:\")\n",
    "\n",
    "dismissals_by_player.sort_values(by='dismissals',ascending=False).head(1)"
   ]
  },
  {
   "cell_type": "markdown",
   "id": "f3f59ac0",
   "metadata": {},
   "source": [
    "### 20. which player has the highest hard-hitting ability?\n"
   ]
  },
  {
   "cell_type": "code",
   "execution_count": 208,
   "id": "ccc5780c",
   "metadata": {},
   "outputs": [
    {
     "name": "stdout",
     "output_type": "stream",
     "text": [
      "Player with the highest hard-hitting ability:\n"
     ]
    },
    {
     "data": {
      "text/html": [
       "<div>\n",
       "<style scoped>\n",
       "    .dataframe tbody tr th:only-of-type {\n",
       "        vertical-align: middle;\n",
       "    }\n",
       "\n",
       "    .dataframe tbody tr th {\n",
       "        vertical-align: top;\n",
       "    }\n",
       "\n",
       "    .dataframe thead th {\n",
       "        text-align: right;\n",
       "    }\n",
       "</style>\n",
       "<table border=\"1\" class=\"dataframe\">\n",
       "  <thead>\n",
       "    <tr style=\"text-align: right;\">\n",
       "      <th></th>\n",
       "      <th>batsman</th>\n",
       "      <th>total_boundaries</th>\n",
       "    </tr>\n",
       "  </thead>\n",
       "  <tbody>\n",
       "    <tr>\n",
       "      <th>92</th>\n",
       "      <td>CH Gayle</td>\n",
       "      <td>703</td>\n",
       "    </tr>\n",
       "  </tbody>\n",
       "</table>\n",
       "</div>"
      ],
      "text/plain": [
       "     batsman  total_boundaries\n",
       "92  CH Gayle               703"
      ]
     },
     "execution_count": 208,
     "metadata": {},
     "output_type": "execute_result"
    }
   ],
   "source": [
    "data['boundary_count'] = data['batsman_runs'].isin([4, 6])\n",
    "\n",
    "hard_hitting_ability = data.groupby('batsman')['boundary_count'].sum().reset_index(name='total_boundaries')\n",
    "\n",
    "print(\"Player with the highest hard-hitting ability:\")\n",
    "\n",
    "hard_hitting_ability.sort_values(by='total_boundaries',ascending=False).head(1)"
   ]
  }
 ],
 "metadata": {
  "kernelspec": {
   "display_name": "Python 3 (ipykernel)",
   "language": "python",
   "name": "python3"
  },
  "language_info": {
   "codemirror_mode": {
    "name": "ipython",
    "version": 3
   },
   "file_extension": ".py",
   "mimetype": "text/x-python",
   "name": "python",
   "nbconvert_exporter": "python",
   "pygments_lexer": "ipython3",
   "version": "3.10.11"
  }
 },
 "nbformat": 4,
 "nbformat_minor": 5
}
